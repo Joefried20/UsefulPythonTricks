def addlabels(x, y, x_offset=0, y_offset=5):
    for xi, yi in zip(x, y):
        plt.text(xi, yi + y_offset, f"{yi:.2f}", ha='center', va='bottom', fontsize=10)